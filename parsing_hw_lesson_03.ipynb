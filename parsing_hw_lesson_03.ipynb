{
 "cells": [
  {
   "cell_type": "markdown",
   "metadata": {},
   "source": [
    "# Урок 3. Системы управления базами данных MongoDB и SQLite в Python\n",
    "### 1. Развернуть у себя на компьютере/виртуальной машине/хостинге MongoDB и реализовать функцию,  записывающую собранные вакансии в созданную БД."
   ]
  },
  {
   "cell_type": "markdown",
   "metadata": {},
   "source": [
    "pip install pymongo"
   ]
  },
  {
   "cell_type": "code",
   "execution_count": 1,
   "metadata": {},
   "outputs": [],
   "source": [
    "import pandas as pd\n",
    "from pymongo import MongoClient"
   ]
  },
  {
   "cell_type": "code",
   "execution_count": 2,
   "metadata": {},
   "outputs": [],
   "source": [
    "DATASET_PATH_HH = \"vacancy_hh_old.csv\"\n",
    "DATASET_PATH_SJ = \"vacancy_sj_old.csv\""
   ]
  },
  {
   "cell_type": "code",
   "execution_count": 3,
   "metadata": {},
   "outputs": [
    {
     "name": "stdout",
     "output_type": "stream",
     "text": [
      "<class 'pandas.core.frame.DataFrame'>\n",
      "RangeIndex: 40 entries, 0 to 39\n",
      "Data columns (total 7 columns):\n",
      " #   Column   Non-Null Count  Dtype \n",
      "---  ------   --------------  ----- \n",
      " 0   name     40 non-null     object\n",
      " 1   link     40 non-null     object\n",
      " 2   sum_min  40 non-null     int64 \n",
      " 3   sum_max  40 non-null     int64 \n",
      " 4   firm     40 non-null     object\n",
      " 5   adress   40 non-null     object\n",
      " 6   site     40 non-null     object\n",
      "dtypes: int64(2), object(5)\n",
      "memory usage: 2.3+ KB\n"
     ]
    }
   ],
   "source": [
    "df_hh = pd.read_csv(DATASET_PATH_HH)\n",
    "df_sj = pd.read_csv(DATASET_PATH_SJ)\n",
    "df_hh.info()"
   ]
  },
  {
   "cell_type": "code",
   "execution_count": 4,
   "metadata": {},
   "outputs": [],
   "source": [
    "# инициализация базы и коллекции\n",
    "client = MongoClient('localhost', 27017)\n",
    "db = client['vacancy_db']\n",
    "mycollection = db.vacancy_collection"
   ]
  },
  {
   "cell_type": "code",
   "execution_count": 5,
   "metadata": {},
   "outputs": [
    {
     "data": {
      "text/plain": [
       "<pymongo.results.InsertManyResult at 0x26384f99d80>"
      ]
     },
     "execution_count": 5,
     "metadata": {},
     "output_type": "execute_result"
    }
   ],
   "source": [
    "#загрузить данные с hh.ru в базу\n",
    "df_hh.reset_index(inplace=True)\n",
    "data_dict = df_hh.to_dict(\"records\")\n",
    "mycollection.insert_many(data_dict)"
   ]
  },
  {
   "cell_type": "code",
   "execution_count": 6,
   "metadata": {},
   "outputs": [
    {
     "data": {
      "text/plain": [
       "<pymongo.results.InsertManyResult at 0x2638511ddc0>"
      ]
     },
     "execution_count": 6,
     "metadata": {},
     "output_type": "execute_result"
    }
   ],
   "source": [
    "#загрузить данные с sj.ru в базу\n",
    "df_sj.reset_index(inplace=True)\n",
    "data_dict = df_sj.to_dict(\"records\")\n",
    "mycollection.insert_many(data_dict)"
   ]
  },
  {
   "cell_type": "markdown",
   "metadata": {},
   "source": [
    "### 2. Написать функцию, которая производит поиск и выводит на экран вакансии с заработной платой больше введённой суммы."
   ]
  },
  {
   "cell_type": "code",
   "execution_count": 7,
   "metadata": {},
   "outputs": [
    {
     "name": "stdout",
     "output_type": "stream",
     "text": [
      "Введите минимальный размер заработной платы:100000\n"
     ]
    },
    {
     "data": {
      "text/html": [
       "<div>\n",
       "<style scoped>\n",
       "    .dataframe tbody tr th:only-of-type {\n",
       "        vertical-align: middle;\n",
       "    }\n",
       "\n",
       "    .dataframe tbody tr th {\n",
       "        vertical-align: top;\n",
       "    }\n",
       "\n",
       "    .dataframe thead th {\n",
       "        text-align: right;\n",
       "    }\n",
       "</style>\n",
       "<table border=\"1\" class=\"dataframe\">\n",
       "  <thead>\n",
       "    <tr style=\"text-align: right;\">\n",
       "      <th></th>\n",
       "      <th>_id</th>\n",
       "      <th>index</th>\n",
       "      <th>name</th>\n",
       "      <th>link</th>\n",
       "      <th>sum_min</th>\n",
       "      <th>sum_max</th>\n",
       "      <th>firm</th>\n",
       "      <th>adress</th>\n",
       "      <th>site</th>\n",
       "    </tr>\n",
       "  </thead>\n",
       "  <tbody>\n",
       "    <tr>\n",
       "      <th>0</th>\n",
       "      <td>613e5283ca8ce46c01b9021a</td>\n",
       "      <td>9</td>\n",
       "      <td>Junior Data Engineer (Python)</td>\n",
       "      <td>https://hh.ru/vacancy/47018981?from=vacancy_se...</td>\n",
       "      <td>120000.0</td>\n",
       "      <td>120000.0</td>\n",
       "      <td>DataFork</td>\n",
       "      <td>Москва, Выставочная и еще 2</td>\n",
       "      <td>hh.ru</td>\n",
       "    </tr>\n",
       "    <tr>\n",
       "      <th>1</th>\n",
       "      <td>613e5283ca8ce46c01b9021d</td>\n",
       "      <td>12</td>\n",
       "      <td>Data scientist</td>\n",
       "      <td>https://hh.ru/vacancy/44989370?from=vacancy_se...</td>\n",
       "      <td>200000.0</td>\n",
       "      <td>0.0</td>\n",
       "      <td>Bip.ru</td>\n",
       "      <td>Москва, Бауманская</td>\n",
       "      <td>hh.ru</td>\n",
       "    </tr>\n",
       "    <tr>\n",
       "      <th>2</th>\n",
       "      <td>613e5283ca8ce46c01b90220</td>\n",
       "      <td>15</td>\n",
       "      <td>Middle Data Scientist / Computer Vision Engineer</td>\n",
       "      <td>https://hh.ru/vacancy/47622728?from=vacancy_se...</td>\n",
       "      <td>130000.0</td>\n",
       "      <td>200000.0</td>\n",
       "      <td>ZennoLab</td>\n",
       "      <td>Москва</td>\n",
       "      <td>hh.ru</td>\n",
       "    </tr>\n",
       "    <tr>\n",
       "      <th>3</th>\n",
       "      <td>613e5283ca8ce46c01b90222</td>\n",
       "      <td>17</td>\n",
       "      <td>Data Analyst</td>\n",
       "      <td>https://hh.ru/vacancy/46956576?from=vacancy_se...</td>\n",
       "      <td>200000.0</td>\n",
       "      <td>0.0</td>\n",
       "      <td>Новакид РУС</td>\n",
       "      <td>Москва</td>\n",
       "      <td>hh.ru</td>\n",
       "    </tr>\n",
       "    <tr>\n",
       "      <th>4</th>\n",
       "      <td>613e5283ca8ce46c01b90223</td>\n",
       "      <td>18</td>\n",
       "      <td>Data Engineer</td>\n",
       "      <td>https://hh.ru/vacancy/46976609?from=vacancy_se...</td>\n",
       "      <td>300000.0</td>\n",
       "      <td>0.0</td>\n",
       "      <td>Храмцова Полина</td>\n",
       "      <td>Москва</td>\n",
       "      <td>hh.ru</td>\n",
       "    </tr>\n",
       "    <tr>\n",
       "      <th>5</th>\n",
       "      <td>613e5283ca8ce46c01b90224</td>\n",
       "      <td>19</td>\n",
       "      <td>Системный аналитик\\ data scientist</td>\n",
       "      <td>https://hh.ru/vacancy/47688264?from=vacancy_se...</td>\n",
       "      <td>190000.0</td>\n",
       "      <td>250000.0</td>\n",
       "      <td>HFLabs</td>\n",
       "      <td>Москва</td>\n",
       "      <td>hh.ru</td>\n",
       "    </tr>\n",
       "    <tr>\n",
       "      <th>6</th>\n",
       "      <td>613e5283ca8ce46c01b90225</td>\n",
       "      <td>20</td>\n",
       "      <td>Специалист Computer Vision (Senior Data Scient...</td>\n",
       "      <td>https://hh.ru/vacancy/47488734?from=vacancy_se...</td>\n",
       "      <td>180000.0</td>\n",
       "      <td>300000.0</td>\n",
       "      <td>ООО Медицинские Скрининг Системы</td>\n",
       "      <td>Санкт-Петербург</td>\n",
       "      <td>hh.ru</td>\n",
       "    </tr>\n",
       "    <tr>\n",
       "      <th>7</th>\n",
       "      <td>613e5283ca8ce46c01b90227</td>\n",
       "      <td>22</td>\n",
       "      <td>Data Analyst</td>\n",
       "      <td>https://hh.ru/vacancy/46956577?from=vacancy_se...</td>\n",
       "      <td>200000.0</td>\n",
       "      <td>0.0</td>\n",
       "      <td>Новакид РУС</td>\n",
       "      <td>Санкт-Петербург</td>\n",
       "      <td>hh.ru</td>\n",
       "    </tr>\n",
       "    <tr>\n",
       "      <th>8</th>\n",
       "      <td>613e5283ca8ce46c01b90239</td>\n",
       "      <td>0</td>\n",
       "      <td>Backend Python Django Developer Data Science C...</td>\n",
       "      <td>https://www.superjob.ru/vakansii/backend-pytho...</td>\n",
       "      <td>150000.0</td>\n",
       "      <td>175000.0</td>\n",
       "      <td>Longevity InTime</td>\n",
       "      <td>Москва</td>\n",
       "      <td>superjob.ru</td>\n",
       "    </tr>\n",
       "    <tr>\n",
       "      <th>9</th>\n",
       "      <td>613e5283ca8ce46c01b90249</td>\n",
       "      <td>16</td>\n",
       "      <td>Системный аналитик</td>\n",
       "      <td>https://www.superjob.ru/vakansii/sistemnyj-ana...</td>\n",
       "      <td>120000.0</td>\n",
       "      <td>NaN</td>\n",
       "      <td>Эссистэнс Сервисес</td>\n",
       "      <td>Москва</td>\n",
       "      <td>superjob.ru</td>\n",
       "    </tr>\n",
       "  </tbody>\n",
       "</table>\n",
       "</div>"
      ],
      "text/plain": [
       "                        _id  index  \\\n",
       "0  613e5283ca8ce46c01b9021a      9   \n",
       "1  613e5283ca8ce46c01b9021d     12   \n",
       "2  613e5283ca8ce46c01b90220     15   \n",
       "3  613e5283ca8ce46c01b90222     17   \n",
       "4  613e5283ca8ce46c01b90223     18   \n",
       "5  613e5283ca8ce46c01b90224     19   \n",
       "6  613e5283ca8ce46c01b90225     20   \n",
       "7  613e5283ca8ce46c01b90227     22   \n",
       "8  613e5283ca8ce46c01b90239      0   \n",
       "9  613e5283ca8ce46c01b90249     16   \n",
       "\n",
       "                                                name  \\\n",
       "0                      Junior Data Engineer (Python)   \n",
       "1                                     Data scientist   \n",
       "2   Middle Data Scientist / Computer Vision Engineer   \n",
       "3                                       Data Analyst   \n",
       "4                                      Data Engineer   \n",
       "5                 Системный аналитик\\ data scientist   \n",
       "6  Специалист Computer Vision (Senior Data Scient...   \n",
       "7                                       Data Analyst   \n",
       "8  Backend Python Django Developer Data Science C...   \n",
       "9                                 Системный аналитик   \n",
       "\n",
       "                                                link   sum_min   sum_max  \\\n",
       "0  https://hh.ru/vacancy/47018981?from=vacancy_se...  120000.0  120000.0   \n",
       "1  https://hh.ru/vacancy/44989370?from=vacancy_se...  200000.0       0.0   \n",
       "2  https://hh.ru/vacancy/47622728?from=vacancy_se...  130000.0  200000.0   \n",
       "3  https://hh.ru/vacancy/46956576?from=vacancy_se...  200000.0       0.0   \n",
       "4  https://hh.ru/vacancy/46976609?from=vacancy_se...  300000.0       0.0   \n",
       "5  https://hh.ru/vacancy/47688264?from=vacancy_se...  190000.0  250000.0   \n",
       "6  https://hh.ru/vacancy/47488734?from=vacancy_se...  180000.0  300000.0   \n",
       "7  https://hh.ru/vacancy/46956577?from=vacancy_se...  200000.0       0.0   \n",
       "8  https://www.superjob.ru/vakansii/backend-pytho...  150000.0  175000.0   \n",
       "9  https://www.superjob.ru/vakansii/sistemnyj-ana...  120000.0       NaN   \n",
       "\n",
       "                               firm                        adress         site  \n",
       "0                          DataFork  Москва, Выставочная и еще 2         hh.ru  \n",
       "1                            Bip.ru            Москва, Бауманская        hh.ru  \n",
       "2                          ZennoLab                        Москва        hh.ru  \n",
       "3                       Новакид РУС                        Москва        hh.ru  \n",
       "4                   Храмцова Полина                        Москва        hh.ru  \n",
       "5                            HFLabs                        Москва        hh.ru  \n",
       "6  ООО Медицинские Скрининг Системы               Санкт-Петербург        hh.ru  \n",
       "7                       Новакид РУС               Санкт-Петербург        hh.ru  \n",
       "8                  Longevity InTime                        Москва  superjob.ru  \n",
       "9                Эссистэнс Сервисес                        Москва  superjob.ru  "
      ]
     },
     "execution_count": 7,
     "metadata": {},
     "output_type": "execute_result"
    }
   ],
   "source": [
    "#найти записи больше равно введенной суммы\n",
    "input_sum = int(input(\"Введите минимальный размер заработной платы:\"))\n",
    "cursor = db['vacancy_collection'].find({'sum_min': { '$gt': input_sum}})\n",
    "df =  pd.DataFrame(list(cursor))\n",
    "df"
   ]
  },
  {
   "cell_type": "markdown",
   "metadata": {},
   "source": [
    "### 3. Написать функцию, которая будет добавлять в вашу базу данных только новые вакансии с сайта."
   ]
  },
  {
   "cell_type": "code",
   "execution_count": 8,
   "metadata": {},
   "outputs": [],
   "source": [
    "def load_set(dt, db_mongodb, db_col):\n",
    "    # соединениес базой MongoDB\n",
    "    client = MongoClient('localhost', 27017)\n",
    "    db = client[db_mongodb] \n",
    "    \n",
    "    # загрузить записи из базы в dataset Pandas\n",
    "    cursor = db[db_col].find()\n",
    "    dfmongo =  pd.DataFrame(list(cursor))            \n",
    "    dfmongo.to_csv('dfmongo.csv', index=False, encoding=\"utf-8\")\n",
    "    \n",
    "    # проверяем два датасета на совпадение данных с базой по link\n",
    "    test_df = pd.merge(dt, dfmongo, on = 'link', how = 'left')\n",
    "    test_df\n",
    "    \n",
    "    #выбираем только новые\n",
    "    test_df = test_df[test_df[\"site_y\"].isnull()]\n",
    "   \n",
    "    if test_df['link'].count() > 0:\n",
    "        new_df = test_df.drop(columns = ['_id', 'index', 'name_y','sum_min_y','sum_max_y','firm_y',\n",
    "                                         'adress_y','site_y'])\n",
    "        new_df.columns=['name', 'link', 'sum_min', 'sum_max', 'firm', 'adress', 'site']\n",
    "        #записываем новые данные в базу\n",
    "        new_df.reset_index(inplace=True)\n",
    "        data_dict = new_df.to_dict(\"records\")\n",
    "        mycollection.insert_many(data_dict)\n",
    "        print(f\"Записаны новые данные в файл: {test_df['link'].count()} шт\")\n",
    "    else:\n",
    "        print(f\"Новых данных нет\")    \n",
    "    "
   ]
  },
  {
   "cell_type": "code",
   "execution_count": 9,
   "metadata": {},
   "outputs": [],
   "source": [
    "#подгружаем из файла новые данные по вакансии\n",
    "DATASET_PATH_HH = \"vacancy_hh.csv\"\n",
    "DATASET_PATH_SJ = \"vacancy_sj.csv\"\n",
    "df_hh = pd.read_csv(DATASET_PATH_HH)\n",
    "df_sj = pd.read_csv(DATASET_PATH_SJ)"
   ]
  },
  {
   "cell_type": "code",
   "execution_count": 10,
   "metadata": {},
   "outputs": [
    {
     "name": "stdout",
     "output_type": "stream",
     "text": [
      "<class 'pandas.core.frame.DataFrame'>\n",
      "RangeIndex: 60 entries, 0 to 59\n",
      "Data columns (total 7 columns):\n",
      " #   Column   Non-Null Count  Dtype \n",
      "---  ------   --------------  ----- \n",
      " 0   name     60 non-null     object\n",
      " 1   link     60 non-null     object\n",
      " 2   sum_min  60 non-null     int64 \n",
      " 3   sum_max  60 non-null     int64 \n",
      " 4   firm     60 non-null     object\n",
      " 5   adress   60 non-null     object\n",
      " 6   site     60 non-null     object\n",
      "dtypes: int64(2), object(5)\n",
      "memory usage: 3.4+ KB\n"
     ]
    }
   ],
   "source": [
    "df_hh.info()"
   ]
  },
  {
   "cell_type": "code",
   "execution_count": 11,
   "metadata": {},
   "outputs": [
    {
     "name": "stdout",
     "output_type": "stream",
     "text": [
      "<class 'pandas.core.frame.DataFrame'>\n",
      "RangeIndex: 38 entries, 0 to 37\n",
      "Data columns (total 7 columns):\n",
      " #   Column   Non-Null Count  Dtype  \n",
      "---  ------   --------------  -----  \n",
      " 0   name     38 non-null     object \n",
      " 1   link     38 non-null     object \n",
      " 2   sum_min  6 non-null      float64\n",
      " 3   sum_max  5 non-null      float64\n",
      " 4   firm     36 non-null     object \n",
      " 5   adress   38 non-null     object \n",
      " 6   site     38 non-null     object \n",
      "dtypes: float64(2), object(5)\n",
      "memory usage: 2.2+ KB\n"
     ]
    }
   ],
   "source": [
    "df_sj.info()"
   ]
  },
  {
   "cell_type": "code",
   "execution_count": 12,
   "metadata": {},
   "outputs": [
    {
     "name": "stdout",
     "output_type": "stream",
     "text": [
      "Записаны новые данные в файл: 40 шт\n"
     ]
    }
   ],
   "source": [
    "load_set(df_hh,'vacancy_db','vacancy_collection')"
   ]
  },
  {
   "cell_type": "code",
   "execution_count": 13,
   "metadata": {},
   "outputs": [
    {
     "name": "stdout",
     "output_type": "stream",
     "text": [
      "Записаны новые данные в файл: 12 шт\n"
     ]
    }
   ],
   "source": [
    "load_set(df_sj,'vacancy_db','vacancy_collection')"
   ]
  },
  {
   "cell_type": "markdown",
   "metadata": {},
   "source": [
    "#Удаление записей для теста\n",
    "mycollection.drop()"
   ]
  },
  {
   "cell_type": "code",
   "execution_count": null,
   "metadata": {},
   "outputs": [],
   "source": []
  }
 ],
 "metadata": {
  "kernelspec": {
   "display_name": "Python 3",
   "language": "python",
   "name": "python3"
  },
  "language_info": {
   "codemirror_mode": {
    "name": "ipython",
    "version": 3
   },
   "file_extension": ".py",
   "mimetype": "text/x-python",
   "name": "python",
   "nbconvert_exporter": "python",
   "pygments_lexer": "ipython3",
   "version": "3.8.3"
  }
 },
 "nbformat": 4,
 "nbformat_minor": 4
}

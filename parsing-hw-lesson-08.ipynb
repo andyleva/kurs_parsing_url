{
 "cells": [
  {
   "cell_type": "markdown",
   "metadata": {},
   "source": [
    "### Методы сбора и обработки данных из сети Интернет\n",
    "#### Урок 8. Работа с данными\n",
    "* 1. В ранее написанное приложение добавить класс с функциями, которые позволят собрать открытые данные по выбранной теме при помощи Python с сайта (выберите из списка известных источников данных)."
   ]
  },
  {
   "cell_type": "markdown",
   "metadata": {},
   "source": [
    "pip install selenium"
   ]
  },
  {
   "cell_type": "code",
   "execution_count": 48,
   "metadata": {},
   "outputs": [],
   "source": [
    "from selenium import webdriver\n",
    "from selenium.webdriver.common.keys import Keys\n",
    "from selenium.webdriver.chrome.options import Options\n",
    "import pandas as pd\n",
    "import os\n",
    "\n",
    "#скачиваем файл\n",
    "chrome_options = Options()\n",
    "driver = webdriver.Chrome(executable_path='./chromedriver.exe', options=chrome_options)\n",
    "\n",
    "driver.get(\"https://data.gov.ru/opendata/7705851331-reestrautomzd\")"
   ]
  },
  {
   "cell_type": "code",
   "execution_count": 49,
   "metadata": {},
   "outputs": [],
   "source": [
    "but = driver.find_element_by_xpath('//h2[text()=\"Паспорт набора\"]')\n",
    "but.click()"
   ]
  },
  {
   "cell_type": "code",
   "execution_count": 51,
   "metadata": {},
   "outputs": [],
   "source": [
    "but3 = driver.find_element_by_xpath(\"//a[contains(@class,'available')]\")\n",
    "but3.click()"
   ]
  },
  {
   "cell_type": "code",
   "execution_count": null,
   "metadata": {},
   "outputs": [],
   "source": [
    "# скачивание файла из открытых источников данных с сайта data.go.ru\n",
    "# https://data.gov.ru/opendata/7705851331-reestrautomzd\n",
    "# Реестр регулярных международных автобусных маршрутов"
   ]
  },
  {
   "cell_type": "code",
   "execution_count": 71,
   "metadata": {},
   "outputs": [],
   "source": [
    "DATASET_PATH = r\"c:\\Users\\levan\\Downloads\\data-20140901T0000-structure-20140901T0000.csv\""
   ]
  },
  {
   "cell_type": "code",
   "execution_count": 72,
   "metadata": {},
   "outputs": [],
   "source": [
    "df = pd.read_csv(DATASET_PATH, sep=';', encoding='utf-8')"
   ]
  },
  {
   "cell_type": "code",
   "execution_count": 73,
   "metadata": {},
   "outputs": [
    {
     "data": {
      "text/plain": [
       "Unnamed: 0                                                int64\n",
       "№ маршрута в разделе отдельного государства              object\n",
       "федеральный округ                                        object\n",
       "код региона                                               int64\n",
       " наименование начального и конечного пунктов маршрута    object\n",
       "страна                                                   object\n",
       "время отправления из начального/конечного пункта         object\n",
       "Российский перевозчик                                    object\n",
       "№ согласования                                           object\n",
       "Иностранный перевозчик                                   object\n",
       "№ согласования.1                                         object\n",
       "Выдано                                                   object\n",
       "Действ.                                                  object\n",
       "АПП                                                      object\n",
       "№ региона АПП                                            object\n",
       "Время сообщения                                          object\n",
       "Время прибытия                                           object\n",
       "Периодичность                                            object\n",
       "Регулярность                                             object\n",
       "Тариф туда/туда и обратно                                object\n",
       "dtype: object"
      ]
     },
     "execution_count": 73,
     "metadata": {},
     "output_type": "execute_result"
    }
   ],
   "source": [
    "df.dtypes"
   ]
  },
  {
   "cell_type": "code",
   "execution_count": 74,
   "metadata": {},
   "outputs": [
    {
     "data": {
      "text/html": [
       "<div>\n",
       "<style scoped>\n",
       "    .dataframe tbody tr th:only-of-type {\n",
       "        vertical-align: middle;\n",
       "    }\n",
       "\n",
       "    .dataframe tbody tr th {\n",
       "        vertical-align: top;\n",
       "    }\n",
       "\n",
       "    .dataframe thead th {\n",
       "        text-align: right;\n",
       "    }\n",
       "</style>\n",
       "<table border=\"1\" class=\"dataframe\">\n",
       "  <thead>\n",
       "    <tr style=\"text-align: right;\">\n",
       "      <th></th>\n",
       "      <th>count</th>\n",
       "      <th>mean</th>\n",
       "      <th>std</th>\n",
       "      <th>min</th>\n",
       "      <th>25%</th>\n",
       "      <th>50%</th>\n",
       "      <th>75%</th>\n",
       "      <th>max</th>\n",
       "    </tr>\n",
       "  </thead>\n",
       "  <tbody>\n",
       "    <tr>\n",
       "      <th>Unnamed: 0</th>\n",
       "      <td>494.0</td>\n",
       "      <td>247.50000</td>\n",
       "      <td>142.749781</td>\n",
       "      <td>1.0</td>\n",
       "      <td>124.25</td>\n",
       "      <td>247.5</td>\n",
       "      <td>370.75</td>\n",
       "      <td>494.0</td>\n",
       "    </tr>\n",
       "    <tr>\n",
       "      <th>код региона</th>\n",
       "      <td>494.0</td>\n",
       "      <td>54.61336</td>\n",
       "      <td>22.935095</td>\n",
       "      <td>1.0</td>\n",
       "      <td>31.00</td>\n",
       "      <td>61.0</td>\n",
       "      <td>77.00</td>\n",
       "      <td>91.0</td>\n",
       "    </tr>\n",
       "  </tbody>\n",
       "</table>\n",
       "</div>"
      ],
      "text/plain": [
       "             count       mean         std  min     25%    50%     75%    max\n",
       "Unnamed: 0   494.0  247.50000  142.749781  1.0  124.25  247.5  370.75  494.0\n",
       "код региона  494.0   54.61336   22.935095  1.0   31.00   61.0   77.00   91.0"
      ]
     },
     "execution_count": 74,
     "metadata": {},
     "output_type": "execute_result"
    }
   ],
   "source": [
    "df.describe().transpose()"
   ]
  },
  {
   "cell_type": "code",
   "execution_count": 76,
   "metadata": {},
   "outputs": [
    {
     "name": "stdout",
     "output_type": "stream",
     "text": [
      "<class 'pandas.core.frame.DataFrame'>\n",
      "RangeIndex: 494 entries, 0 to 493\n",
      "Data columns (total 20 columns):\n",
      " #   Column                                                 Non-Null Count  Dtype \n",
      "---  ------                                                 --------------  ----- \n",
      " 0   Unnamed: 0                                             494 non-null    int64 \n",
      " 1   № маршрута в разделе отдельного государства            491 non-null    object\n",
      " 2   федеральный округ                                      494 non-null    object\n",
      " 3   код региона                                            494 non-null    int64 \n",
      " 4    наименование начального и конечного пунктов маршрута  494 non-null    object\n",
      " 5   страна                                                 494 non-null    object\n",
      " 6   время отправления из начального/конечного пункта       494 non-null    object\n",
      " 7   Российский перевозчик                                  494 non-null    object\n",
      " 8   № согласования                                         494 non-null    object\n",
      " 9   Иностранный перевозчик                                 494 non-null    object\n",
      " 10  № согласования.1                                       494 non-null    object\n",
      " 11  Выдано                                                 494 non-null    object\n",
      " 12  Действ.                                                494 non-null    object\n",
      " 13  АПП                                                    494 non-null    object\n",
      " 14  № региона АПП                                          493 non-null    object\n",
      " 15  Время сообщения                                        494 non-null    object\n",
      " 16  Время прибытия                                         494 non-null    object\n",
      " 17  Периодичность                                          494 non-null    object\n",
      " 18  Регулярность                                           494 non-null    object\n",
      " 19  Тариф туда/туда и обратно                              494 non-null    object\n",
      "dtypes: int64(2), object(18)\n",
      "memory usage: 77.3+ KB\n"
     ]
    }
   ],
   "source": [
    "df.info()"
   ]
  },
  {
   "cell_type": "code",
   "execution_count": 77,
   "metadata": {},
   "outputs": [
    {
     "data": {
      "text/plain": [
       "Unnamed: 0                                               0.000000\n",
       "№ маршрута в разделе отдельного государства              0.607287\n",
       "федеральный округ                                        0.000000\n",
       "код региона                                              0.000000\n",
       " наименование начального и конечного пунктов маршрута    0.000000\n",
       "страна                                                   0.000000\n",
       "время отправления из начального/конечного пункта         0.000000\n",
       "Российский перевозчик                                    0.000000\n",
       "№ согласования                                           0.000000\n",
       "Иностранный перевозчик                                   0.000000\n",
       "№ согласования.1                                         0.000000\n",
       "Выдано                                                   0.000000\n",
       "Действ.                                                  0.000000\n",
       "АПП                                                      0.000000\n",
       "№ региона АПП                                            0.202429\n",
       "Время сообщения                                          0.000000\n",
       "Время прибытия                                           0.000000\n",
       "Периодичность                                            0.000000\n",
       "Регулярность                                             0.000000\n",
       "Тариф туда/туда и обратно                                0.000000\n",
       "dtype: float64"
      ]
     },
     "execution_count": 77,
     "metadata": {},
     "output_type": "execute_result"
    }
   ],
   "source": [
    "df.isnull().mean() * 100"
   ]
  },
  {
   "cell_type": "code",
   "execution_count": 80,
   "metadata": {},
   "outputs": [
    {
     "data": {
      "text/plain": [
       "AS \"Lux Express Estonia\"                                          11\n",
       "ТОО \"ПавлодарИнтерBus\"                                            10\n",
       "ООО \"Транспортная компания ЮйБер\"                                  7\n",
       "ОАО \"Могилевоблавтотранс\"                                          7\n",
       "ТОО \"Экспресс\"                                                     6\n",
       "                                                                  ..\n",
       "ФОП Налюшний И.А.                                                  1\n",
       "ТОВ \"Вега-Райзен\" ТОВ \"Одри\"                                       1\n",
       "ООО \"Транспортная компания\" г. Дунин                               1\n",
       "\"Ecolines Polska\" Sp.zo.o., ОАО \"Пинский АП\", ЧП \"АВТОБУС-ТУР\"     1\n",
       "ТОО \"Семей Автотранс Лайн\"                                         1\n",
       "Name: Иностранный перевозчик, Length: 328, dtype: int64"
      ]
     },
     "execution_count": 80,
     "metadata": {},
     "output_type": "execute_result"
    }
   ],
   "source": [
    "df['Иностранный перевозчик'].value_counts()"
   ]
  },
  {
   "cell_type": "code",
   "execution_count": 81,
   "metadata": {},
   "outputs": [
    {
     "data": {
      "text/plain": [
       "28.11.2017    16\n",
       "29.01.2018    13\n",
       "06.11.2020    10\n",
       "26.02.2019    10\n",
       "18.12.2017    10\n",
       "              ..\n",
       "06.11.2018     1\n",
       "19.07.2019     1\n",
       "23.02.2022     1\n",
       "23.09.2019     1\n",
       "29.07.2018     1\n",
       "Name: Действ., Length: 206, dtype: int64"
      ]
     },
     "execution_count": 81,
     "metadata": {},
     "output_type": "execute_result"
    }
   ],
   "source": [
    "df['Действ.'].value_counts()"
   ]
  },
  {
   "cell_type": "code",
   "execution_count": 82,
   "metadata": {},
   "outputs": [
    {
     "data": {
      "text/plain": [
       "ежедневно                                                          381\n",
       "вт.,чт.,сб.                                                          4\n",
       "-                                                                    4\n",
       "в дни работы МАПП                                                    4\n",
       "ежедневно кроме воскресенья                                          4\n",
       "                                                                  ... \n",
       "пн.,вт.,ср.,чт.,пт.,сб./пн.,вт.,ср.,чт.,пт.,сб.                      1\n",
       "пн.,вт.,ср.,пт./вт.,чт.,сб.,вс.                                      1\n",
       "пн, вт., ср., чт.,пт.,сб. /пн.,вт.,ср.,чт.,пт.,сб четная неделя      1\n",
       "вт, пт.,вс./пн.,чт.,сб                                               1\n",
       "пн.,чт.,пт.,вс./пн.,чт.,пт.,вс.                                      1\n",
       "Name: Регулярность, Length: 85, dtype: int64"
      ]
     },
     "execution_count": 82,
     "metadata": {},
     "output_type": "execute_result"
    }
   ],
   "source": [
    "df['Регулярность'].value_counts()"
   ]
  },
  {
   "cell_type": "code",
   "execution_count": 83,
   "metadata": {},
   "outputs": [
    {
     "data": {
      "text/html": [
       "<div>\n",
       "<style scoped>\n",
       "    .dataframe tbody tr th:only-of-type {\n",
       "        vertical-align: middle;\n",
       "    }\n",
       "\n",
       "    .dataframe tbody tr th {\n",
       "        vertical-align: top;\n",
       "    }\n",
       "\n",
       "    .dataframe thead th {\n",
       "        text-align: right;\n",
       "    }\n",
       "</style>\n",
       "<table border=\"1\" class=\"dataframe\">\n",
       "  <thead>\n",
       "    <tr style=\"text-align: right;\">\n",
       "      <th></th>\n",
       "      <th>Unnamed: 0</th>\n",
       "      <th>№ маршрута в разделе отдельного государства</th>\n",
       "      <th>федеральный округ</th>\n",
       "      <th>код региона</th>\n",
       "      <th>наименование начального и конечного пунктов маршрута</th>\n",
       "      <th>страна</th>\n",
       "      <th>время отправления из начального/конечного пункта</th>\n",
       "      <th>Российский перевозчик</th>\n",
       "      <th>№ согласования</th>\n",
       "      <th>Иностранный перевозчик</th>\n",
       "      <th>№ согласования.1</th>\n",
       "      <th>Выдано</th>\n",
       "      <th>Действ.</th>\n",
       "      <th>АПП</th>\n",
       "      <th>№ региона АПП</th>\n",
       "      <th>Время сообщения</th>\n",
       "      <th>Время прибытия</th>\n",
       "      <th>Периодичность</th>\n",
       "      <th>Регулярность</th>\n",
       "      <th>Тариф туда/туда и обратно</th>\n",
       "    </tr>\n",
       "  </thead>\n",
       "  <tbody>\n",
       "    <tr>\n",
       "      <th>0</th>\n",
       "      <td>1</td>\n",
       "      <td>1</td>\n",
       "      <td>СКФО</td>\n",
       "      <td>15</td>\n",
       "      <td>Владикавказ (ул. Московская/Архонское ш.) - Кр...</td>\n",
       "      <td>Абхазия</td>\n",
       "      <td>09-00/09-25</td>\n",
       "      <td>ООО \"Алания-ТУРТРАНС\"</td>\n",
       "      <td>МР-0376</td>\n",
       "      <td>нет</td>\n",
       "      <td>-</td>\n",
       "      <td>23.04.2015</td>\n",
       "      <td>14.03.2020</td>\n",
       "      <td>Псоу</td>\n",
       "      <td>23</td>\n",
       "      <td>23-00/23-00</td>\n",
       "      <td>09-45/10-55</td>\n",
       "      <td>круглогодично</td>\n",
       "      <td>ежедневно</td>\n",
       "      <td>1989</td>\n",
       "    </tr>\n",
       "    <tr>\n",
       "      <th>1</th>\n",
       "      <td>2</td>\n",
       "      <td>2</td>\n",
       "      <td>СКФО</td>\n",
       "      <td>15</td>\n",
       "      <td>Владикавказ (ул. Московская/Архонское ш.) - Ма...</td>\n",
       "      <td>Абхазия</td>\n",
       "      <td>08-00/12-00</td>\n",
       "      <td>ООО \"Алания-ТУРТРАНС\"</td>\n",
       "      <td>МР-0375</td>\n",
       "      <td>нет</td>\n",
       "      <td>-</td>\n",
       "      <td>23.04.2015</td>\n",
       "      <td>14.03.2020</td>\n",
       "      <td>Псоу</td>\n",
       "      <td>23</td>\n",
       "      <td>23-00/23-00</td>\n",
       "      <td>11-00/07-00</td>\n",
       "      <td>круглогодично</td>\n",
       "      <td>ежедневно</td>\n",
       "      <td>1989</td>\n",
       "    </tr>\n",
       "    <tr>\n",
       "      <th>2</th>\n",
       "      <td>3</td>\n",
       "      <td>3</td>\n",
       "      <td>КФО</td>\n",
       "      <td>91</td>\n",
       "      <td>Евпатория (ул. Интернациональная, 124) - Сухум</td>\n",
       "      <td>Абхазия</td>\n",
       "      <td>09-30/08-00</td>\n",
       "      <td>ООО \"Предприятие \"АДК-Крым\"</td>\n",
       "      <td>МР-0759</td>\n",
       "      <td>ООО \"Авто-Тур\"</td>\n",
       "      <td>МР-0759</td>\n",
       "      <td>25.10.2016</td>\n",
       "      <td>25.10.2021</td>\n",
       "      <td>Адлер</td>\n",
       "      <td>23</td>\n",
       "      <td>24-00/23-30</td>\n",
       "      <td>07-30/09-30</td>\n",
       "      <td>круглогодично</td>\n",
       "      <td>ежедневно</td>\n",
       "      <td>2021,5</td>\n",
       "    </tr>\n",
       "    <tr>\n",
       "      <th>3</th>\n",
       "      <td>4</td>\n",
       "      <td>4</td>\n",
       "      <td>ЮФО</td>\n",
       "      <td>23</td>\n",
       "      <td>Кропоткин (ул. Шоссейная, 41) - Гали</td>\n",
       "      <td>Абхазия</td>\n",
       "      <td>04-10/04-10</td>\n",
       "      <td>ООО \"Маяк\"</td>\n",
       "      <td>RUS-3658</td>\n",
       "      <td>ООО СП \"Очамчырастрой\"</td>\n",
       "      <td>ОМР-3658</td>\n",
       "      <td>18.12.2012</td>\n",
       "      <td>18.12.2017</td>\n",
       "      <td>Веселое</td>\n",
       "      <td>23</td>\n",
       "      <td>20-40/19-44</td>\n",
       "      <td>23-54/00-50</td>\n",
       "      <td>круглогодично</td>\n",
       "      <td>ежедневно</td>\n",
       "      <td>954.10</td>\n",
       "    </tr>\n",
       "    <tr>\n",
       "      <th>4</th>\n",
       "      <td>5</td>\n",
       "      <td>5</td>\n",
       "      <td>ЮФО</td>\n",
       "      <td>23</td>\n",
       "      <td>Краснодар (Привокзальная пл., 5) - Гагра</td>\n",
       "      <td>Абхазия</td>\n",
       "      <td>09-45,22-00/07-00,19-00</td>\n",
       "      <td>ООО \"Круг 98\"</td>\n",
       "      <td>МР-0645</td>\n",
       "      <td>УП Гагрского района \"АТП администрации Гагрско...</td>\n",
       "      <td>МР-0645</td>\n",
       "      <td>17.06.2016</td>\n",
       "      <td>28.03.2019</td>\n",
       "      <td>Псоу</td>\n",
       "      <td>23</td>\n",
       "      <td>11-00,11-35/11-00,12-30</td>\n",
       "      <td>06-00,19-30/09-00,21-20</td>\n",
       "      <td>круглогодично</td>\n",
       "      <td>ежедневно</td>\n",
       "      <td>656</td>\n",
       "    </tr>\n",
       "  </tbody>\n",
       "</table>\n",
       "</div>"
      ],
      "text/plain": [
       "   Unnamed: 0 № маршрута в разделе отдельного государства федеральный округ   \\\n",
       "0           1                                           1               СКФО   \n",
       "1           2                                           2               СКФО   \n",
       "2           3                                           3                КФО   \n",
       "3           4                                           4                ЮФО   \n",
       "4           5                                           5                ЮФО   \n",
       "\n",
       "   код региона  наименование начального и конечного пунктов маршрута   страна  \\\n",
       "0           15  Владикавказ (ул. Московская/Архонское ш.) - Кр...     Абхазия   \n",
       "1           15  Владикавказ (ул. Московская/Архонское ш.) - Ма...     Абхазия   \n",
       "2           91     Евпатория (ул. Интернациональная, 124) - Сухум     Абхазия   \n",
       "3           23               Кропоткин (ул. Шоссейная, 41) - Гали     Абхазия   \n",
       "4           23           Краснодар (Привокзальная пл., 5) - Гагра     Абхазия   \n",
       "\n",
       "  время отправления из начального/конечного пункта  \\\n",
       "0                                      09-00/09-25   \n",
       "1                                      08-00/12-00   \n",
       "2                                      09-30/08-00   \n",
       "3                                      04-10/04-10   \n",
       "4                          09-45,22-00/07-00,19-00   \n",
       "\n",
       "         Российский перевозчик № согласования  \\\n",
       "0        ООО \"Алания-ТУРТРАНС\"        МР-0376   \n",
       "1        ООО \"Алания-ТУРТРАНС\"        МР-0375   \n",
       "2  ООО \"Предприятие \"АДК-Крым\"        МР-0759   \n",
       "3                   ООО \"Маяк\"       RUS-3658   \n",
       "4                ООО \"Круг 98\"        МР-0645   \n",
       "\n",
       "                              Иностранный перевозчик № согласования.1  \\\n",
       "0                                                нет                -   \n",
       "1                                                нет                -   \n",
       "2                                     ООО \"Авто-Тур\"          МР-0759   \n",
       "3                             ООО СП \"Очамчырастрой\"         ОМР-3658   \n",
       "4  УП Гагрского района \"АТП администрации Гагрско...          МР-0645   \n",
       "\n",
       "       Выдано     Действ.      АПП № региона АПП          Время сообщения  \\\n",
       "0  23.04.2015  14.03.2020     Псоу            23              23-00/23-00   \n",
       "1  23.04.2015  14.03.2020     Псоу            23              23-00/23-00   \n",
       "2  25.10.2016  25.10.2021    Адлер            23              24-00/23-30   \n",
       "3  18.12.2012  18.12.2017  Веселое            23              20-40/19-44   \n",
       "4  17.06.2016  28.03.2019     Псоу            23  11-00,11-35/11-00,12-30   \n",
       "\n",
       "            Время прибытия  Периодичность Регулярность  \\\n",
       "0              09-45/10-55  круглогодично    ежедневно   \n",
       "1              11-00/07-00  круглогодично    ежедневно   \n",
       "2              07-30/09-30  круглогодично    ежедневно   \n",
       "3              23-54/00-50  круглогодично    ежедневно   \n",
       "4  06-00,19-30/09-00,21-20  круглогодично    ежедневно   \n",
       "\n",
       "  Тариф туда/туда и обратно  \n",
       "0                      1989  \n",
       "1                      1989  \n",
       "2                    2021,5  \n",
       "3                    954.10  \n",
       "4                       656  "
      ]
     },
     "execution_count": 83,
     "metadata": {},
     "output_type": "execute_result"
    }
   ],
   "source": [
    "df.head()"
   ]
  },
  {
   "cell_type": "code",
   "execution_count": null,
   "metadata": {},
   "outputs": [],
   "source": []
  }
 ],
 "metadata": {
  "kernelspec": {
   "display_name": "Python 3",
   "language": "python",
   "name": "python3"
  },
  "language_info": {
   "codemirror_mode": {
    "name": "ipython",
    "version": 3
   },
   "file_extension": ".py",
   "mimetype": "text/x-python",
   "name": "python",
   "nbconvert_exporter": "python",
   "pygments_lexer": "ipython3",
   "version": "3.8.3"
  }
 },
 "nbformat": 4,
 "nbformat_minor": 4
}
